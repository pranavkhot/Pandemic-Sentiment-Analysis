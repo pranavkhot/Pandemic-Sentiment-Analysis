{
 "cells": [
  {
   "cell_type": "markdown",
   "metadata": {},
   "source": [
    "## Importing Necessary Libraries\n",
    "---\n",
    "\n",
    "\n",
    "\n",
    "---"
   ]
  },
  {
   "cell_type": "code",
   "execution_count": 13,
   "metadata": {},
   "outputs": [],
   "source": [
    "import pandas as pd\n",
    "from tabulate import tabulate\n",
    "import re"
   ]
  },
  {
   "cell_type": "markdown",
   "metadata": {},
   "source": [
    "## List of files in chronological order\n",
    "---\n",
    "\n",
    "\n",
    "\n",
    "---"
   ]
  },
  {
   "cell_type": "code",
   "execution_count": 2,
   "metadata": {},
   "outputs": [],
   "source": [
    "file_paths = [\n",
    "    '/Users/pranavkhot/Documents/NLP/data/raw/2020-03-29 Coronavirus Tweets.CSV',\n",
    "    '/Users/pranavkhot/Documents/NLP/data/raw/2020-03-30 Coronavirus Tweets.CSV',\n",
    "    '/Users/pranavkhot/Documents/NLP/data/raw/2020-03-31 Coronavirus Tweets.CSV',\n",
    "    '/Users/pranavkhot/Documents/NLP/data/raw/2020-04-01 Coronavirus Tweets.CSV',\n",
    "    '/Users/pranavkhot/Documents/NLP/data/raw/2020-04-02 Coronavirus Tweets.CSV',\n",
    "    '/Users/pranavkhot/Documents/NLP/data/raw/2020-04-04 Coronavirus Tweets.CSV',\n",
    "    '/Users/pranavkhot/Documents/NLP/data/raw/2020-04-05 Coronavirus Tweets.CSV',\n",
    "    '/Users/pranavkhot/Documents/NLP/data/raw/2020-04-06 Coronavirus Tweets.CSV',\n",
    "    '/Users/pranavkhot/Documents/NLP/data/raw/2020-04-07 Coronavirus Tweets.CSV',\n",
    "    '/Users/pranavkhot/Documents/NLP/data/raw/2020-04-08 Coronavirus Tweets.CSV',\n",
    "    '/Users/pranavkhot/Documents/NLP/data/raw/2020-04-09 Coronavirus Tweets.CSV',\n",
    "    '/Users/pranavkhot/Documents/NLP/data/raw/2020-04-10 Coronavirus Tweets.CSV',\n",
    "    '/Users/pranavkhot/Documents/NLP/data/raw/2020-04-11 Coronavirus Tweets.CSV',\n",
    "    '/Users/pranavkhot/Documents/NLP/data/raw/2020-04-12 Coronavirus Tweets.CSV',\n",
    "    '/Users/pranavkhot/Documents/NLP/data/raw/2020-04-13 Coronavirus Tweets.CSV',\n",
    "    '/Users/pranavkhot/Documents/NLP/data/raw/2020-04-14 Coronavirus Tweets.CSV',\n",
    "    '/Users/pranavkhot/Documents/NLP/data/raw/2020-04-15 Coronavirus Tweets.CSV',\n",
    "    '/Users/pranavkhot/Documents/NLP/data/raw/2020-04-16 Coronavirus Tweets.CSV',\n",
    "    '/Users/pranavkhot/Documents/NLP/data/raw/2020-04-17 Coronavirus Tweets.CSV',\n",
    "    '/Users/pranavkhot/Documents/NLP/data/raw/2020-04-18 Coronavirus Tweets.CSV',\n",
    "    '/Users/pranavkhot/Documents/NLP/data/raw/2020-04-19 Coronavirus Tweets.CSV',\n",
    "    '/Users/pranavkhot/Documents/NLP/data/raw/2020-04-20 Coronavirus Tweets.CSV',\n",
    "    '/Users/pranavkhot/Documents/NLP/data/raw/2020-04-21 Coronavirus Tweets.CSV',\n",
    "    '/Users/pranavkhot/Documents/NLP/data/raw/2020-04-22 Coronavirus Tweets.CSV',\n",
    "    '/Users/pranavkhot/Documents/NLP/data/raw/2020-04-23 Coronavirus Tweets.CSV',\n",
    "    '/Users/pranavkhot/Documents/NLP/data/raw/2020-04-24 Coronavirus Tweets.CSV',\n",
    "    '/Users/pranavkhot/Documents/NLP/data/raw/2020-04-25 Coronavirus Tweets.CSV',\n",
    "    '/Users/pranavkhot/Documents/NLP/data/raw/2020-04-26 Coronavirus Tweets.CSV',\n",
    "    '/Users/pranavkhot/Documents/NLP/data/raw/2020-04-27 Coronavirus Tweets.CSV',\n",
    "    '/Users/pranavkhot/Documents/NLP/data/raw/2020-04-28 Coronavirus Tweets.CSV',\n",
    "    '/Users/pranavkhot/Documents/NLP/data/raw/2020-04-29 Coronavirus Tweets.CSV',\n",
    "    '/Users/pranavkhot/Documents/NLP/data/raw/2020-04-30 Coronavirus Tweets.CSV',\n",
    "]"
   ]
  },
  {
   "cell_type": "markdown",
   "metadata": {},
   "source": [
    "## Combine the datasets\n",
    "---\n",
    "\n",
    "\n",
    "\n",
    "---"
   ]
  },
  {
   "cell_type": "code",
   "execution_count": 3,
   "metadata": {},
   "outputs": [],
   "source": [
    "combined_data = pd.concat((pd.read_csv(file, encoding='ISO-8859-1') for file in file_paths), ignore_index=True)"
   ]
  },
  {
   "cell_type": "markdown",
   "metadata": {},
   "source": [
    "## Saving the combined data to a new CSV file\n",
    "---\n",
    "\n",
    "\n",
    "\n",
    "---"
   ]
  },
  {
   "cell_type": "code",
   "execution_count": 16,
   "metadata": {},
   "outputs": [],
   "source": [
    "combined_data.to_csv('/Users/pranavkhot/Documents/NLP/data/processed_data/combined_data.csv', index=False, encoding='utf-8')\n",
    "combined_data.to_feather('/Users/pranavkhot/Documents/NLP/data/processed_data/combined_data.feather')\n"
   ]
  },
  {
   "cell_type": "markdown",
   "metadata": {},
   "source": [
    "## Display the shape of the combined dataset\n",
    "---\n",
    "\n",
    "\n",
    "\n",
    "---"
   ]
  },
  {
   "cell_type": "code",
   "execution_count": 5,
   "metadata": {},
   "outputs": [
    {
     "name": "stdout",
     "output_type": "stream",
     "text": [
      "╒═══════════════════╤══════════╕\n",
      "│ Dimension         │    Count │\n",
      "╞═══════════════════╪══════════╡\n",
      "│ Number of Rows    │ 14070856 │\n",
      "├───────────────────┼──────────┤\n",
      "│ Number of Columns │       22 │\n",
      "╘═══════════════════╧══════════╛\n"
     ]
    }
   ],
   "source": [
    "combined_data_shape = combined_data.shape\n",
    "combined_data_head = combined_data.head()\n",
    "shape_table = [[\"Number of Rows\", combined_data_shape[0]], [\"Number of Columns\", combined_data_shape[1]]]\n",
    "shape_table_str = tabulate(shape_table, headers=['Dimension', 'Count'], tablefmt='fancy_grid', showindex='True')\n",
    "print(shape_table_str)"
   ]
  },
  {
   "cell_type": "markdown",
   "metadata": {},
   "source": [
    "## Display the first few rows of dataset\n",
    "---\n",
    "\n",
    "\n",
    "\n",
    "---"
   ]
  },
  {
   "cell_type": "code",
   "execution_count": 6,
   "metadata": {},
   "outputs": [
    {
     "name": "stdout",
     "output_type": "stream",
     "text": [
      "╒═════════════════════╤═════════════════════╤══════════════════════╤═══════════════╤═════════════════════════════════════════════════════════════════════════════════════════════════════════════════════════════════════════════════════════════════════════════════╤═══════════╤══════════════════════╤════════════════════╤════════════════════════╤════════════╤══════════════╤════════════════════╤═════════════════╤════════════════╤═══════════════════╤══════════════╤═══════════════════╤═════════════════╤════════════════╤══════════════════════╤════════════╤════════╕\n",
      "│           status_id │             user_id │ created_at           │ screen_name   │ text                                                                                                                                                                            │ source    │   reply_to_status_id │   reply_to_user_id │   reply_to_screen_name │ is_quote   │ is_retweet   │   favourites_count │   retweet_count │   country_code │   place_full_name │   place_type │   followers_count │   friends_count │   account_lang │ account_created_at   │ verified   │ lang   │\n",
      "╞═════════════════════╪═════════════════════╪══════════════════════╪═══════════════╪═════════════════════════════════════════════════════════════════════════════════════════════════════════════════════════════════════════════════════════════════════════════════╪═══════════╪══════════════════════╪════════════════════╪════════════════════════╪════════════╪══════════════╪════════════════════╪═════════════════╪════════════════╪═══════════════════╪══════════════╪═══════════════════╪═════════════════╪════════════════╪══════════════════════╪════════════╪════════╡\n",
      "│ 1244051646071611394 │  860252856829587457 │ 2020-03-29T00:00:00Z │ IMSS_SanLuis  │ Ante cualquier enfermedad respiratoria, no te automediques. #PrevenciÃ³nCoronavirus #Coronavirus #COVID19 https://t.co/IgB2izYi1p                                               │ TweetDeck │                  nan │                nan │                    nan │ False      │ False        │                300 │               0 │            nan │               nan │          nan │              1008 │              41 │            nan │ 2017-05-04T22:00:38Z │ False      │ es     │\n",
      "├─────────────────────┼─────────────────────┼──────────────────────┼───────────────┼─────────────────────────────────────────────────────────────────────────────────────────────────────────────────────────────────────────────────────────────────────────────────┼───────────┼──────────────────────┼────────────────────┼────────────────────────┼────────────┼──────────────┼────────────────────┼─────────────────┼────────────────┼───────────────────┼──────────────┼───────────────────┼─────────────────┼────────────────┼──────────────────────┼────────────┼────────┤\n",
      "│ 1244051645039706112 │ 1125933654943895553 │ 2020-03-29T00:00:00Z │ intrac_ccs    │ #ATENCIÃN En el Terminal Nuevo Circo se implementan medidas como el uso de la mascarilla por parte de usuari@s y conductores que hacen vida en dichas instalaciones, parte de los esfuerzos unificados para impedir la propagaciÃ³n del #Coronavirus                                                                                                                                                                                 │ TweetDeck │                  nan │                nan │                    nan │ False      │ False        │               1030 │               1 │            nan │               nan │          nan │                90 │             316 │            nan │ 2019-05-08T01:21:16Z │ False      │ es     │\n",
      "│                     │                     │                      │               │ #28Marzo                                                                                                                                                                        │           │                      │                    │                        │            │              │                    │                 │                │                   │              │                   │                 │                │                      │            │        │\n",
      "│                     │                     │                      │               │ @NicolasMaduro                                                                                                                                                                  │           │                      │                    │                        │            │              │                    │                 │                │                   │              │                   │                 │                │                      │            │        │\n",
      "│                     │                     │                      │               │ @ErikaPSUV https://t.co/yD8g0EAcQz                                                                                                                                              │           │                      │                    │                        │            │              │                    │                 │                │                   │              │                   │                 │                │                      │            │        │\n",
      "├─────────────────────┼─────────────────────┼──────────────────────┼───────────────┼─────────────────────────────────────────────────────────────────────────────────────────────────────────────────────────────────────────────────────────────────────────────────┼───────────┼──────────────────────┼────────────────────┼────────────────────────┼────────────┼──────────────┼────────────────────┼─────────────────┼────────────────┼───────────────────┼──────────────┼───────────────────┼─────────────────┼────────────────┼──────────────────────┼────────────┼────────┤\n",
      "│ 1244051645975191557 │            80943559 │ 2020-03-29T00:00:00Z │ rlieving      │ âPeople are just storing up. They are staying at home freezing things. I talk to dealers around the state and out of the area, they are all out of freezers,â said owner Frank Mertz.                                                                                                                                                                                 │ TweetDeck │                  nan │                nan │                    nan │ False      │ False        │                604 │               0 │            nan │               nan │          nan │               136 │             457 │            nan │ 2009-10-08T21:06:08Z │ False      │ en     │\n",
      "│                     │                     │                      │               │                                                                                                                                                                                 │           │                      │                    │                        │            │              │                    │                 │                │                   │              │                   │                 │                │                      │            │        │\n",
      "│                     │                     │                      │               │ https://t.co/gsqghMqJs9                                                                                                                                                         │           │                      │                    │                        │            │              │                    │                 │                │                   │              │                   │                 │                │                      │            │        │\n",
      "│                     │                     │                      │               │                                                                                                                                                                                 │           │                      │                    │                        │            │              │                    │                 │                │                   │              │                   │                 │                │                      │            │        │\n",
      "│                     │                     │                      │               │ @KQDS_FOX21 #minneapolis #mn #covid19 #coronavirus                                                                                                                              │           │                      │                    │                        │            │              │                    │                 │                │                   │              │                   │                 │                │                      │            │        │\n",
      "├─────────────────────┼─────────────────────┼──────────────────────┼───────────────┼─────────────────────────────────────────────────────────────────────────────────────────────────────────────────────────────────────────────────────────────────────────────────┼───────────┼──────────────────────┼────────────────────┼────────────────────────┼────────────┼──────────────┼────────────────────┼─────────────────┼────────────────┼───────────────────┼──────────────┼───────────────────┼─────────────────┼────────────────┼──────────────────────┼────────────┼────────┤\n",
      "│ 1244051646750928897 │  817072420947247104 │ 2020-03-29T00:00:00Z │ Tu_IMSS_Coah  │ Si empezaste a trabajar, necesitas dar de alta a tus beneficiarios ante el #IMSS, ahora lo puedes hacer desde tu domicilio a travÃ©s de internet y evita filas | #SanaDistancia │ TweetDeck │                  nan │                nan │                    nan │ False      │ False        │               1827 │               0 │            nan │               nan │          nan │              1549 │             170 │            nan │ 2017-01-05T18:17:00Z │ False      │ es     │\n",
      "│                     │                     │                      │               │ #QuÃ©dateEnCasa                                                                                                                                                                 │           │                      │                    │                        │            │              │                    │                 │                │                   │              │                   │                 │                │                      │            │        │\n",
      "│                     │                     │                      │               │ #Coronavirus                                                                                                                                                                    │           │                      │                    │                        │            │              │                    │                 │                │                   │              │                   │                 │                │                      │            │        │\n",
      "│                     │                     │                      │               │ #COVID19 #MÃ©xicoUnido                                                                                                                                                          │           │                      │                    │                        │            │              │                    │                 │                │                   │              │                   │                 │                │                      │            │        │\n",
      "│                     │                     │                      │               │                                                                                                                                                                                 │           │                      │                    │                        │            │              │                    │                 │                │                   │              │                   │                 │                │                      │            │        │\n",
      "│                     │                     │                      │               │ https://t.co/zv3POwhVXe https://t.co/1VOKagjdOF                                                                                                                                 │           │                      │                    │                        │            │              │                    │                 │                │                   │              │                   │                 │                │                      │            │        │\n",
      "├─────────────────────┼─────────────────────┼──────────────────────┼───────────────┼─────────────────────────────────────────────────────────────────────────────────────────────────────────────────────────────────────────────────────────────────────────────────┼───────────┼──────────────────────┼────────────────────┼────────────────────────┼────────────┼──────────────┼────────────────────┼─────────────────┼────────────────┼───────────────────┼──────────────┼───────────────────┼─────────────────┼────────────────┼──────────────────────┼────────────┼────────┤\n",
      "│ 1244051647032102914 │  788863557349670913 │ 2020-03-29T00:00:00Z │ Tabasco_IMSS  │ Una sociedad informada estÃ¡ mejor preparada ante el #Coronavirus #COVID19 Â¡inscrÃ­bete! https://t.co/HhuRe1r7Wo                                                               │ TweetDeck │                  nan │                nan │                    nan │ False      │ False        │                723 │               0 │            nan │               nan │          nan │               868 │             125 │            nan │ 2016-10-19T22:05:03Z │ False      │ es     │\n",
      "╘═════════════════════╧═════════════════════╧══════════════════════╧═══════════════╧═════════════════════════════════════════════════════════════════════════════════════════════════════════════════════════════════════════════════════════════════════════════════╧═══════════╧══════════════════════╧════════════════════╧════════════════════════╧════════════╧══════════════╧════════════════════╧═════════════════╧════════════════╧═══════════════════╧══════════════╧═══════════════════╧═════════════════╧════════════════╧══════════════════════╧════════════╧════════╛\n"
     ]
    }
   ],
   "source": [
    "df_table = tabulate(combined_data.head(), headers='keys', tablefmt='fancy_grid', showindex='False')\n",
    "print(df_table)"
   ]
  }
 ],
 "metadata": {
  "kernelspec": {
   "display_name": "Python 3",
   "language": "python",
   "name": "python3"
  },
  "language_info": {
   "codemirror_mode": {
    "name": "ipython",
    "version": 3
   },
   "file_extension": ".py",
   "mimetype": "text/x-python",
   "name": "python",
   "nbconvert_exporter": "python",
   "pygments_lexer": "ipython3",
   "version": "3.11.4"
  },
  "orig_nbformat": 4
 },
 "nbformat": 4,
 "nbformat_minor": 2
}
